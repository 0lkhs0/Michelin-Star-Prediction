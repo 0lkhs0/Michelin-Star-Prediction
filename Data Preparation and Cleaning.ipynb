{
 "cells": [
  {
   "cell_type": "markdown",
   "id": "594ef163",
   "metadata": {},
   "source": [
    "### Data Preparation and Cleaning\n",
    "\n"
   ]
  },
  {
   "cell_type": "markdown",
   "id": "4ae1c3b1",
   "metadata": {},
   "source": [
    "<br>"
   ]
  },
  {
   "cell_type": "markdown",
   "id": "5a4a76be",
   "metadata": {},
   "source": [
    "**Import necessary libraries**"
   ]
  },
  {
   "cell_type": "code",
   "execution_count": 4,
   "id": "0e3abd57",
   "metadata": {},
   "outputs": [],
   "source": [
    "import numpy as np\n",
    "import pandas as pd"
   ]
  },
  {
   "cell_type": "markdown",
   "id": "9c318455",
   "metadata": {},
   "source": [
    "<br>\n",
    "\n",
    "**Import data from csv file**"
   ]
  },
  {
   "cell_type": "code",
   "execution_count": 5,
   "id": "a14d5250",
   "metadata": {},
   "outputs": [
    {
     "data": {
      "text/html": [
       "<div>\n",
       "<style scoped>\n",
       "    .dataframe tbody tr th:only-of-type {\n",
       "        vertical-align: middle;\n",
       "    }\n",
       "\n",
       "    .dataframe tbody tr th {\n",
       "        vertical-align: top;\n",
       "    }\n",
       "\n",
       "    .dataframe thead th {\n",
       "        text-align: right;\n",
       "    }\n",
       "</style>\n",
       "<table border=\"1\" class=\"dataframe\">\n",
       "  <thead>\n",
       "    <tr style=\"text-align: right;\">\n",
       "      <th></th>\n",
       "      <th>Name</th>\n",
       "      <th>Address</th>\n",
       "      <th>Location</th>\n",
       "      <th>MinPrice</th>\n",
       "      <th>MaxPrice</th>\n",
       "      <th>Currency</th>\n",
       "      <th>Cuisine</th>\n",
       "      <th>Longitude</th>\n",
       "      <th>Latitude</th>\n",
       "      <th>PhoneNumber</th>\n",
       "      <th>Url</th>\n",
       "      <th>WebsiteUrl</th>\n",
       "      <th>Award</th>\n",
       "    </tr>\n",
       "  </thead>\n",
       "  <tbody>\n",
       "    <tr>\n",
       "      <th>0</th>\n",
       "      <td>Aqua</td>\n",
       "      <td>Parkstraße 1, Wolfsburg, 38440, Germany</td>\n",
       "      <td>Wolfsburg</td>\n",
       "      <td>225</td>\n",
       "      <td>225</td>\n",
       "      <td>EUR</td>\n",
       "      <td>Creative, Modern Cuisine</td>\n",
       "      <td>10.789999</td>\n",
       "      <td>52.433172</td>\n",
       "      <td>4.953616e+11</td>\n",
       "      <td>https://guide.michelin.com/en/niedersachsen/wo...</td>\n",
       "      <td>http://www.restaurant-aqua.com</td>\n",
       "      <td>3 MICHELIN Stars</td>\n",
       "    </tr>\n",
       "    <tr>\n",
       "      <th>1</th>\n",
       "      <td>The Table Kevin Fehling</td>\n",
       "      <td>Shanghaiallee 15, Hamburg, 20457, Germany</td>\n",
       "      <td>Hamburg</td>\n",
       "      <td>230</td>\n",
       "      <td>230</td>\n",
       "      <td>EUR</td>\n",
       "      <td>Creative</td>\n",
       "      <td>10.002980</td>\n",
       "      <td>53.542623</td>\n",
       "      <td>4.940229e+11</td>\n",
       "      <td>https://guide.michelin.com/en/hamburg-region/h...</td>\n",
       "      <td>http://www.the-table-hamburg.de/</td>\n",
       "      <td>3 MICHELIN Stars</td>\n",
       "    </tr>\n",
       "    <tr>\n",
       "      <th>2</th>\n",
       "      <td>Restaurant Überfahrt Christian Jürgens</td>\n",
       "      <td>Überfahrtstraße 10, Rottach-Egern, 83700, Germany</td>\n",
       "      <td>Rottach-Egern</td>\n",
       "      <td>259</td>\n",
       "      <td>319</td>\n",
       "      <td>EUR</td>\n",
       "      <td>Creative</td>\n",
       "      <td>11.758229</td>\n",
       "      <td>47.696685</td>\n",
       "      <td>4.980227e+09</td>\n",
       "      <td>https://guide.michelin.com/en/bayern/rottach-e...</td>\n",
       "      <td>http://www.althoffcollection.com</td>\n",
       "      <td>3 MICHELIN Stars</td>\n",
       "    </tr>\n",
       "    <tr>\n",
       "      <th>3</th>\n",
       "      <td>Victor's Fine Dining by christian bau</td>\n",
       "      <td>Schlossstraße 27, Perl, 66706, Germany</td>\n",
       "      <td>Perl</td>\n",
       "      <td>205</td>\n",
       "      <td>295</td>\n",
       "      <td>EUR</td>\n",
       "      <td>Creative</td>\n",
       "      <td>6.387211</td>\n",
       "      <td>49.535173</td>\n",
       "      <td>4.968668e+10</td>\n",
       "      <td>https://guide.michelin.com/en/saarland/perl/re...</td>\n",
       "      <td>https://www.victors-fine-dining.de/</td>\n",
       "      <td>3 MICHELIN Stars</td>\n",
       "    </tr>\n",
       "    <tr>\n",
       "      <th>4</th>\n",
       "      <td>Rutz</td>\n",
       "      <td>Chausseestraße 8, Berlin, 10115, Germany</td>\n",
       "      <td>Berlin</td>\n",
       "      <td>198</td>\n",
       "      <td>245</td>\n",
       "      <td>EUR</td>\n",
       "      <td>Modern Cuisine, Creative</td>\n",
       "      <td>13.386087</td>\n",
       "      <td>52.528351</td>\n",
       "      <td>4.930246e+11</td>\n",
       "      <td>https://guide.michelin.com/en/berlin-region/be...</td>\n",
       "      <td>https://www.rutz-restaurant.de/</td>\n",
       "      <td>3 MICHELIN Stars</td>\n",
       "    </tr>\n",
       "  </tbody>\n",
       "</table>\n",
       "</div>"
      ],
      "text/plain": [
       "                                     Name  \\\n",
       "0                                    Aqua   \n",
       "1                 The Table Kevin Fehling   \n",
       "2  Restaurant Überfahrt Christian Jürgens   \n",
       "3   Victor's Fine Dining by christian bau   \n",
       "4                                    Rutz   \n",
       "\n",
       "                                             Address       Location MinPrice  \\\n",
       "0            Parkstraße 1, Wolfsburg, 38440, Germany      Wolfsburg      225   \n",
       "1          Shanghaiallee 15, Hamburg, 20457, Germany        Hamburg      230   \n",
       "2  Überfahrtstraße 10, Rottach-Egern, 83700, Germany  Rottach-Egern      259   \n",
       "3             Schlossstraße 27, Perl, 66706, Germany           Perl      205   \n",
       "4           Chausseestraße 8, Berlin, 10115, Germany         Berlin      198   \n",
       "\n",
       "  MaxPrice Currency                   Cuisine  Longitude   Latitude  \\\n",
       "0      225      EUR  Creative, Modern Cuisine  10.789999  52.433172   \n",
       "1      230      EUR                  Creative  10.002980  53.542623   \n",
       "2      319      EUR                  Creative  11.758229  47.696685   \n",
       "3      295      EUR                  Creative   6.387211  49.535173   \n",
       "4      245      EUR  Modern Cuisine, Creative  13.386087  52.528351   \n",
       "\n",
       "    PhoneNumber                                                Url  \\\n",
       "0  4.953616e+11  https://guide.michelin.com/en/niedersachsen/wo...   \n",
       "1  4.940229e+11  https://guide.michelin.com/en/hamburg-region/h...   \n",
       "2  4.980227e+09  https://guide.michelin.com/en/bayern/rottach-e...   \n",
       "3  4.968668e+10  https://guide.michelin.com/en/saarland/perl/re...   \n",
       "4  4.930246e+11  https://guide.michelin.com/en/berlin-region/be...   \n",
       "\n",
       "                            WebsiteUrl             Award  \n",
       "0       http://www.restaurant-aqua.com  3 MICHELIN Stars  \n",
       "1     http://www.the-table-hamburg.de/  3 MICHELIN Stars  \n",
       "2     http://www.althoffcollection.com  3 MICHELIN Stars  \n",
       "3  https://www.victors-fine-dining.de/  3 MICHELIN Stars  \n",
       "4      https://www.rutz-restaurant.de/  3 MICHELIN Stars  "
      ]
     },
     "execution_count": 5,
     "metadata": {},
     "output_type": "execute_result"
    }
   ],
   "source": [
    "michelindata = pd.read_csv('michelin_my_maps.csv')\n",
    "michelindata.head()"
   ]
  },
  {
   "cell_type": "markdown",
   "id": "d507cfe6",
   "metadata": {},
   "source": [
    "The dataset has 13 columns of data; Name, Address, Location, MinPrice, MaxPrice, Currency, Cuisine, Longitude, Latitude, PhoneNumber, Url, WebsiteUrl and award\n",
    "\n",
    "To prepare and clean this dataset, we will be creating additional columns to extract the data better. \n",
    "\n",
    "Firstly, getting the mean price of every resturant and using a currency converter to convert the mean price into USD -> this would facilitate better comparisons \n",
    "\n",
    "Secondly, getting the country from address, as the values in location are too specific. \n",
    "\n",
    "Lastly, we would also be dropping irrelevent columns such as Longitude, Latitude, PhoneNumber, Url and WebsiteUrl. As we are focusing on resturants that obtained at least 1 Michelin Star, we would also be dropping resturants that only obtained the Bib Gourmand Award."
   ]
  },
  {
   "cell_type": "markdown",
   "id": "4ff38724",
   "metadata": {},
   "source": [
    "<br>"
   ]
  },
  {
   "cell_type": "markdown",
   "id": "17566132",
   "metadata": {},
   "source": [
    "**Currency Converter**\n",
    "\n",
    "Download necessary library to convert currency, install, then import the library\n",
    "\n",
    "The library can be downloaded from https://pypi.org/project/CurrencyConverter"
   ]
  },
  {
   "cell_type": "code",
   "execution_count": 1,
   "id": "ad811832",
   "metadata": {},
   "outputs": [
    {
     "name": "stdout",
     "output_type": "stream",
     "text": [
      "Requirement already satisfied: CurrencyConverter in /Users/sean/opt/anaconda3/lib/python3.8/site-packages (0.16.11)\n",
      "Note: you may need to restart the kernel to use updated packages.\n"
     ]
    }
   ],
   "source": [
    "pip install CurrencyConverter"
   ]
  },
  {
   "cell_type": "code",
   "execution_count": 6,
   "id": "1001bfd7",
   "metadata": {
    "scrolled": false
   },
   "outputs": [
    {
     "data": {
      "text/plain": [
       "111.01"
      ]
     },
     "execution_count": 6,
     "metadata": {},
     "output_type": "execute_result"
    }
   ],
   "source": [
    "from currency_converter import CurrencyConverter\n",
    "\n",
    "# sample test\n",
    "c = CurrencyConverter()\n",
    "\n",
    "c.convert(100, 'EUR', 'USD')"
   ]
  },
  {
   "cell_type": "markdown",
   "id": "f76ac053",
   "metadata": {},
   "source": [
    "**Check for missing values before continuing**"
   ]
  },
  {
   "cell_type": "markdown",
   "id": "15ee2813",
   "metadata": {},
   "source": [
    "Find missing values"
   ]
  },
  {
   "cell_type": "code",
   "execution_count": 7,
   "id": "d2c7862d",
   "metadata": {},
   "outputs": [
    {
     "data": {
      "text/plain": [
       "Name              0\n",
       "Address           0\n",
       "Location          0\n",
       "MinPrice          1\n",
       "MaxPrice          1\n",
       "Currency          1\n",
       "Cuisine           0\n",
       "Longitude         0\n",
       "Latitude          0\n",
       "PhoneNumber     121\n",
       "Url               0\n",
       "WebsiteUrl     1127\n",
       "Award             0\n",
       "dtype: int64"
      ]
     },
     "execution_count": 7,
     "metadata": {},
     "output_type": "execute_result"
    }
   ],
   "source": [
    "michelindata.isnull().sum()"
   ]
  },
  {
   "cell_type": "markdown",
   "id": "b9387adf",
   "metadata": {},
   "source": [
    "- PhoneNumber and WebsiteUrl will not be tackled in this dataset as they are considered irrelevant in this      project so will only be tackling the values with no MinPrice and MaxPrice"
   ]
  },
  {
   "cell_type": "code",
   "execution_count": 8,
   "id": "2cedbf50",
   "metadata": {
    "scrolled": true
   },
   "outputs": [
    {
     "data": {
      "text/html": [
       "<div>\n",
       "<style scoped>\n",
       "    .dataframe tbody tr th:only-of-type {\n",
       "        vertical-align: middle;\n",
       "    }\n",
       "\n",
       "    .dataframe tbody tr th {\n",
       "        vertical-align: top;\n",
       "    }\n",
       "\n",
       "    .dataframe thead th {\n",
       "        text-align: right;\n",
       "    }\n",
       "</style>\n",
       "<table border=\"1\" class=\"dataframe\">\n",
       "  <thead>\n",
       "    <tr style=\"text-align: right;\">\n",
       "      <th></th>\n",
       "      <th>Name</th>\n",
       "      <th>Address</th>\n",
       "      <th>Location</th>\n",
       "      <th>MinPrice</th>\n",
       "      <th>MaxPrice</th>\n",
       "      <th>Currency</th>\n",
       "      <th>Cuisine</th>\n",
       "      <th>Longitude</th>\n",
       "      <th>Latitude</th>\n",
       "      <th>PhoneNumber</th>\n",
       "      <th>Url</th>\n",
       "      <th>WebsiteUrl</th>\n",
       "      <th>Award</th>\n",
       "    </tr>\n",
       "  </thead>\n",
       "  <tbody>\n",
       "    <tr>\n",
       "      <th>4968</th>\n",
       "      <td>Thai House</td>\n",
       "      <td>254 Rose St., Danville, 94526, United States</td>\n",
       "      <td>Danville</td>\n",
       "      <td>NaN</td>\n",
       "      <td>NaN</td>\n",
       "      <td>NaN</td>\n",
       "      <td>Thai</td>\n",
       "      <td>-122.00018</td>\n",
       "      <td>37.82337</td>\n",
       "      <td>1.925820e+10</td>\n",
       "      <td>https://guide.michelin.com/en/california/danvi...</td>\n",
       "      <td>https://www.thethaihousedanville.com/</td>\n",
       "      <td>Bib Gourmand</td>\n",
       "    </tr>\n",
       "  </tbody>\n",
       "</table>\n",
       "</div>"
      ],
      "text/plain": [
       "            Name                                       Address  Location  \\\n",
       "4968  Thai House  254 Rose St., Danville, 94526, United States  Danville   \n",
       "\n",
       "     MinPrice MaxPrice Currency Cuisine  Longitude  Latitude   PhoneNumber  \\\n",
       "4968      NaN      NaN      NaN    Thai -122.00018  37.82337  1.925820e+10   \n",
       "\n",
       "                                                    Url  \\\n",
       "4968  https://guide.michelin.com/en/california/danvi...   \n",
       "\n",
       "                                 WebsiteUrl         Award  \n",
       "4968  https://www.thethaihousedanville.com/  Bib Gourmand  "
      ]
     },
     "execution_count": 8,
     "metadata": {},
     "output_type": "execute_result"
    }
   ],
   "source": [
    "michelindata[michelindata['MinPrice'].isnull()]"
   ]
  },
  {
   "cell_type": "markdown",
   "id": "ed02c90f",
   "metadata": {},
   "source": [
    "MinPrice, MaxPrice will be 0 temporarily and Currency will be inserted USD as Address shows United States"
   ]
  },
  {
   "cell_type": "code",
   "execution_count": 9,
   "id": "808b0d5f",
   "metadata": {},
   "outputs": [],
   "source": [
    "michelindata.drop(4968, inplace=True)"
   ]
  },
  {
   "cell_type": "code",
   "execution_count": 10,
   "id": "0e557545",
   "metadata": {},
   "outputs": [
    {
     "data": {
      "text/html": [
       "<div>\n",
       "<style scoped>\n",
       "    .dataframe tbody tr th:only-of-type {\n",
       "        vertical-align: middle;\n",
       "    }\n",
       "\n",
       "    .dataframe tbody tr th {\n",
       "        vertical-align: top;\n",
       "    }\n",
       "\n",
       "    .dataframe thead th {\n",
       "        text-align: right;\n",
       "    }\n",
       "</style>\n",
       "<table border=\"1\" class=\"dataframe\">\n",
       "  <thead>\n",
       "    <tr style=\"text-align: right;\">\n",
       "      <th></th>\n",
       "      <th>Name</th>\n",
       "      <th>Address</th>\n",
       "      <th>Location</th>\n",
       "      <th>MinPrice</th>\n",
       "      <th>MaxPrice</th>\n",
       "      <th>Currency</th>\n",
       "      <th>Cuisine</th>\n",
       "      <th>Longitude</th>\n",
       "      <th>Latitude</th>\n",
       "      <th>PhoneNumber</th>\n",
       "      <th>Url</th>\n",
       "      <th>WebsiteUrl</th>\n",
       "      <th>Award</th>\n",
       "    </tr>\n",
       "  </thead>\n",
       "  <tbody>\n",
       "  </tbody>\n",
       "</table>\n",
       "</div>"
      ],
      "text/plain": [
       "Empty DataFrame\n",
       "Columns: [Name, Address, Location, MinPrice, MaxPrice, Currency, Cuisine, Longitude, Latitude, PhoneNumber, Url, WebsiteUrl, Award]\n",
       "Index: []"
      ]
     },
     "execution_count": 10,
     "metadata": {},
     "output_type": "execute_result"
    }
   ],
   "source": [
    "michelindata[michelindata['MinPrice'].isnull()]"
   ]
  },
  {
   "cell_type": "markdown",
   "id": "bbcc8635",
   "metadata": {},
   "source": [
    "- Checking again for missing values in the MinPrice and MaxPrice column\n",
    "- Missing values are successfully filled in"
   ]
  },
  {
   "cell_type": "markdown",
   "id": "393e6c12",
   "metadata": {},
   "source": [
    "**Getting Mean Price and converting all the price to a standardised currency**"
   ]
  },
  {
   "cell_type": "markdown",
   "id": "fd9cbe8e",
   "metadata": {},
   "source": [
    "Convert data types of MinPrice and MaxPrice to integer"
   ]
  },
  {
   "cell_type": "code",
   "execution_count": 11,
   "id": "b07a4ace",
   "metadata": {},
   "outputs": [],
   "source": [
    "michelindata['MinPrice'] = michelindata['MinPrice'].str.replace(',', '').astype(int)\n",
    "michelindata['MaxPrice'] = michelindata['MaxPrice'].str.replace(',', '').astype(int)"
   ]
  },
  {
   "cell_type": "code",
   "execution_count": 12,
   "id": "c8de5abb",
   "metadata": {},
   "outputs": [
    {
     "data": {
      "text/plain": [
       "Name            object\n",
       "Address         object\n",
       "Location        object\n",
       "MinPrice         int64\n",
       "MaxPrice         int64\n",
       "Currency        object\n",
       "Cuisine         object\n",
       "Longitude      float64\n",
       "Latitude       float64\n",
       "PhoneNumber    float64\n",
       "Url             object\n",
       "WebsiteUrl      object\n",
       "Award           object\n",
       "dtype: object"
      ]
     },
     "execution_count": 12,
     "metadata": {},
     "output_type": "execute_result"
    }
   ],
   "source": [
    "michelindata.dtypes"
   ]
  },
  {
   "cell_type": "code",
   "execution_count": 13,
   "id": "bd0166c7",
   "metadata": {},
   "outputs": [
    {
     "data": {
      "text/plain": [
       "225"
      ]
     },
     "execution_count": 13,
     "metadata": {},
     "output_type": "execute_result"
    }
   ],
   "source": [
    "michelindata.iloc[0]['MinPrice']"
   ]
  },
  {
   "cell_type": "markdown",
   "id": "7f940e32",
   "metadata": {},
   "source": [
    " - Calculate Mean Price for each restaurant"
   ]
  },
  {
   "cell_type": "code",
   "execution_count": 14,
   "id": "5ca26991",
   "metadata": {},
   "outputs": [],
   "source": [
    "michelindata['MeanPrice'] = (michelindata['MinPrice'] + michelindata['MaxPrice'])/2"
   ]
  },
  {
   "cell_type": "code",
   "execution_count": 15,
   "id": "7019a309",
   "metadata": {
    "scrolled": true
   },
   "outputs": [
    {
     "data": {
      "text/html": [
       "<div>\n",
       "<style scoped>\n",
       "    .dataframe tbody tr th:only-of-type {\n",
       "        vertical-align: middle;\n",
       "    }\n",
       "\n",
       "    .dataframe tbody tr th {\n",
       "        vertical-align: top;\n",
       "    }\n",
       "\n",
       "    .dataframe thead th {\n",
       "        text-align: right;\n",
       "    }\n",
       "</style>\n",
       "<table border=\"1\" class=\"dataframe\">\n",
       "  <thead>\n",
       "    <tr style=\"text-align: right;\">\n",
       "      <th></th>\n",
       "      <th>MinPrice</th>\n",
       "      <th>MaxPrice</th>\n",
       "      <th>Longitude</th>\n",
       "      <th>Latitude</th>\n",
       "      <th>PhoneNumber</th>\n",
       "      <th>MeanPrice</th>\n",
       "    </tr>\n",
       "  </thead>\n",
       "  <tbody>\n",
       "    <tr>\n",
       "      <th>count</th>\n",
       "      <td>6501.000000</td>\n",
       "      <td>6501.000000</td>\n",
       "      <td>6501.000000</td>\n",
       "      <td>6501.000000</td>\n",
       "      <td>6.380000e+03</td>\n",
       "      <td>6501.000000</td>\n",
       "    </tr>\n",
       "    <tr>\n",
       "      <th>mean</th>\n",
       "      <td>2229.932472</td>\n",
       "      <td>3767.321028</td>\n",
       "      <td>27.186057</td>\n",
       "      <td>40.946917</td>\n",
       "      <td>3.136822e+11</td>\n",
       "      <td>2998.626750</td>\n",
       "    </tr>\n",
       "    <tr>\n",
       "      <th>std</th>\n",
       "      <td>10138.560522</td>\n",
       "      <td>18104.793115</td>\n",
       "      <td>65.358048</td>\n",
       "      <td>11.919718</td>\n",
       "      <td>1.509684e+12</td>\n",
       "      <td>13896.793134</td>\n",
       "    </tr>\n",
       "    <tr>\n",
       "      <th>min</th>\n",
       "      <td>2.000000</td>\n",
       "      <td>2.000000</td>\n",
       "      <td>-123.719444</td>\n",
       "      <td>-23.638434</td>\n",
       "      <td>4.977184e+07</td>\n",
       "      <td>2.000000</td>\n",
       "    </tr>\n",
       "    <tr>\n",
       "      <th>25%</th>\n",
       "      <td>39.000000</td>\n",
       "      <td>61.000000</td>\n",
       "      <td>0.908524</td>\n",
       "      <td>35.689601</td>\n",
       "      <td>3.314430e+10</td>\n",
       "      <td>50.000000</td>\n",
       "    </tr>\n",
       "    <tr>\n",
       "      <th>50%</th>\n",
       "      <td>70.000000</td>\n",
       "      <td>120.000000</td>\n",
       "      <td>7.445899</td>\n",
       "      <td>43.610370</td>\n",
       "      <td>3.862600e+10</td>\n",
       "      <td>95.000000</td>\n",
       "    </tr>\n",
       "    <tr>\n",
       "      <th>75%</th>\n",
       "      <td>205.000000</td>\n",
       "      <td>300.000000</td>\n",
       "      <td>100.470749</td>\n",
       "      <td>48.818285</td>\n",
       "      <td>8.532864e+10</td>\n",
       "      <td>250.000000</td>\n",
       "    </tr>\n",
       "    <tr>\n",
       "      <th>max</th>\n",
       "      <td>200000.000000</td>\n",
       "      <td>380000.000000</td>\n",
       "      <td>139.847604</td>\n",
       "      <td>64.144365</td>\n",
       "      <td>4.981419e+13</td>\n",
       "      <td>290000.000000</td>\n",
       "    </tr>\n",
       "  </tbody>\n",
       "</table>\n",
       "</div>"
      ],
      "text/plain": [
       "            MinPrice       MaxPrice    Longitude     Latitude   PhoneNumber  \\\n",
       "count    6501.000000    6501.000000  6501.000000  6501.000000  6.380000e+03   \n",
       "mean     2229.932472    3767.321028    27.186057    40.946917  3.136822e+11   \n",
       "std     10138.560522   18104.793115    65.358048    11.919718  1.509684e+12   \n",
       "min         2.000000       2.000000  -123.719444   -23.638434  4.977184e+07   \n",
       "25%        39.000000      61.000000     0.908524    35.689601  3.314430e+10   \n",
       "50%        70.000000     120.000000     7.445899    43.610370  3.862600e+10   \n",
       "75%       205.000000     300.000000   100.470749    48.818285  8.532864e+10   \n",
       "max    200000.000000  380000.000000   139.847604    64.144365  4.981419e+13   \n",
       "\n",
       "           MeanPrice  \n",
       "count    6501.000000  \n",
       "mean     2998.626750  \n",
       "std     13896.793134  \n",
       "min         2.000000  \n",
       "25%        50.000000  \n",
       "50%        95.000000  \n",
       "75%       250.000000  \n",
       "max    290000.000000  "
      ]
     },
     "execution_count": 15,
     "metadata": {},
     "output_type": "execute_result"
    }
   ],
   "source": [
    "michelindata.describe()"
   ]
  },
  {
   "cell_type": "markdown",
   "id": "679f7c60",
   "metadata": {},
   "source": [
    " - Replace unsupported currencies with similar value currency for easier currency conversion"
   ]
  },
  {
   "cell_type": "code",
   "execution_count": 16,
   "id": "36873801",
   "metadata": {},
   "outputs": [],
   "source": [
    "michelindata['Currency'].replace({'MOP':'HKD', 'RSD':'JPY', 'TWD':'THB'}, inplace=True)"
   ]
  },
  {
   "cell_type": "code",
   "execution_count": 17,
   "id": "907b5dc6",
   "metadata": {},
   "outputs": [],
   "source": [
    "michelindata['USDPrice'] = michelindata.apply(lambda row: c.convert(row['MeanPrice'], row['Currency'], 'USD'), axis=1)"
   ]
  },
  {
   "cell_type": "code",
   "execution_count": 18,
   "id": "5c54b38c",
   "metadata": {},
   "outputs": [
    {
     "data": {
      "text/plain": [
       "0       249.772500\n",
       "1       255.323000\n",
       "2       320.818900\n",
       "3       277.525000\n",
       "4       245.887150\n",
       "           ...    \n",
       "6497     42.942984\n",
       "6498     55.468021\n",
       "6499     16.222905\n",
       "6500     56.064452\n",
       "6501     37.217253\n",
       "Name: USDPrice, Length: 6501, dtype: float64"
      ]
     },
     "execution_count": 18,
     "metadata": {},
     "output_type": "execute_result"
    }
   ],
   "source": [
    "michelindata['USDPrice']"
   ]
  },
  {
   "cell_type": "code",
   "execution_count": 19,
   "id": "322537f7",
   "metadata": {},
   "outputs": [
    {
     "data": {
      "text/html": [
       "<div>\n",
       "<style scoped>\n",
       "    .dataframe tbody tr th:only-of-type {\n",
       "        vertical-align: middle;\n",
       "    }\n",
       "\n",
       "    .dataframe tbody tr th {\n",
       "        vertical-align: top;\n",
       "    }\n",
       "\n",
       "    .dataframe thead th {\n",
       "        text-align: right;\n",
       "    }\n",
       "</style>\n",
       "<table border=\"1\" class=\"dataframe\">\n",
       "  <thead>\n",
       "    <tr style=\"text-align: right;\">\n",
       "      <th></th>\n",
       "      <th>MinPrice</th>\n",
       "      <th>MaxPrice</th>\n",
       "      <th>Longitude</th>\n",
       "      <th>Latitude</th>\n",
       "      <th>PhoneNumber</th>\n",
       "      <th>MeanPrice</th>\n",
       "      <th>USDPrice</th>\n",
       "    </tr>\n",
       "  </thead>\n",
       "  <tbody>\n",
       "    <tr>\n",
       "      <th>count</th>\n",
       "      <td>6501.000000</td>\n",
       "      <td>6501.000000</td>\n",
       "      <td>6501.000000</td>\n",
       "      <td>6501.000000</td>\n",
       "      <td>6.380000e+03</td>\n",
       "      <td>6501.000000</td>\n",
       "      <td>6501.000000</td>\n",
       "    </tr>\n",
       "    <tr>\n",
       "      <th>mean</th>\n",
       "      <td>2229.932472</td>\n",
       "      <td>3767.321028</td>\n",
       "      <td>27.186057</td>\n",
       "      <td>40.946917</td>\n",
       "      <td>3.136822e+11</td>\n",
       "      <td>2998.626750</td>\n",
       "      <td>93.959679</td>\n",
       "    </tr>\n",
       "    <tr>\n",
       "      <th>std</th>\n",
       "      <td>10138.560522</td>\n",
       "      <td>18104.793115</td>\n",
       "      <td>65.358048</td>\n",
       "      <td>11.919718</td>\n",
       "      <td>1.509684e+12</td>\n",
       "      <td>13896.793134</td>\n",
       "      <td>71.445504</td>\n",
       "    </tr>\n",
       "    <tr>\n",
       "      <th>min</th>\n",
       "      <td>2.000000</td>\n",
       "      <td>2.000000</td>\n",
       "      <td>-123.719444</td>\n",
       "      <td>-23.638434</td>\n",
       "      <td>4.977184e+07</td>\n",
       "      <td>2.000000</td>\n",
       "      <td>0.421051</td>\n",
       "    </tr>\n",
       "    <tr>\n",
       "      <th>25%</th>\n",
       "      <td>39.000000</td>\n",
       "      <td>61.000000</td>\n",
       "      <td>0.908524</td>\n",
       "      <td>35.689601</td>\n",
       "      <td>3.314430e+10</td>\n",
       "      <td>50.000000</td>\n",
       "      <td>46.069150</td>\n",
       "    </tr>\n",
       "    <tr>\n",
       "      <th>50%</th>\n",
       "      <td>70.000000</td>\n",
       "      <td>120.000000</td>\n",
       "      <td>7.445899</td>\n",
       "      <td>43.610370</td>\n",
       "      <td>3.862600e+10</td>\n",
       "      <td>95.000000</td>\n",
       "      <td>72.156500</td>\n",
       "    </tr>\n",
       "    <tr>\n",
       "      <th>75%</th>\n",
       "      <td>205.000000</td>\n",
       "      <td>300.000000</td>\n",
       "      <td>100.470749</td>\n",
       "      <td>48.818285</td>\n",
       "      <td>8.532864e+10</td>\n",
       "      <td>250.000000</td>\n",
       "      <td>126.504042</td>\n",
       "    </tr>\n",
       "    <tr>\n",
       "      <th>max</th>\n",
       "      <td>200000.000000</td>\n",
       "      <td>380000.000000</td>\n",
       "      <td>139.847604</td>\n",
       "      <td>64.144365</td>\n",
       "      <td>4.981419e+13</td>\n",
       "      <td>290000.000000</td>\n",
       "      <td>1016.076644</td>\n",
       "    </tr>\n",
       "  </tbody>\n",
       "</table>\n",
       "</div>"
      ],
      "text/plain": [
       "            MinPrice       MaxPrice    Longitude     Latitude   PhoneNumber  \\\n",
       "count    6501.000000    6501.000000  6501.000000  6501.000000  6.380000e+03   \n",
       "mean     2229.932472    3767.321028    27.186057    40.946917  3.136822e+11   \n",
       "std     10138.560522   18104.793115    65.358048    11.919718  1.509684e+12   \n",
       "min         2.000000       2.000000  -123.719444   -23.638434  4.977184e+07   \n",
       "25%        39.000000      61.000000     0.908524    35.689601  3.314430e+10   \n",
       "50%        70.000000     120.000000     7.445899    43.610370  3.862600e+10   \n",
       "75%       205.000000     300.000000   100.470749    48.818285  8.532864e+10   \n",
       "max    200000.000000  380000.000000   139.847604    64.144365  4.981419e+13   \n",
       "\n",
       "           MeanPrice     USDPrice  \n",
       "count    6501.000000  6501.000000  \n",
       "mean     2998.626750    93.959679  \n",
       "std     13896.793134    71.445504  \n",
       "min         2.000000     0.421051  \n",
       "25%        50.000000    46.069150  \n",
       "50%        95.000000    72.156500  \n",
       "75%       250.000000   126.504042  \n",
       "max    290000.000000  1016.076644  "
      ]
     },
     "execution_count": 19,
     "metadata": {},
     "output_type": "execute_result"
    }
   ],
   "source": [
    "michelindata.describe()"
   ]
  },
  {
   "cell_type": "markdown",
   "id": "75b74552",
   "metadata": {},
   "source": [
    "**Add Country data from Address**"
   ]
  },
  {
   "cell_type": "code",
   "execution_count": 20,
   "id": "b30717da",
   "metadata": {},
   "outputs": [],
   "source": [
    "michelindata['Country'] = michelindata['Address'].apply(lambda x: x.split(',')[-1])"
   ]
  },
  {
   "cell_type": "markdown",
   "id": "704125e2",
   "metadata": {},
   "source": [
    "Finally, drop irrelevant columns"
   ]
  },
  {
   "cell_type": "code",
   "execution_count": 26,
   "id": "e70ce7ea",
   "metadata": {},
   "outputs": [],
   "source": [
    "michelindata = michelindata.drop(columns=['Longitude', 'Latitude', 'PhoneNumber', 'Url', 'WebsiteUrl'])\n",
    "\n",
    "def filter_rows_by_values(df, col, values):\n",
    "    return df[~df[col].isin(values)]\n",
    "\n",
    "michelindata = filter_rows_by_values(michelindata, \"Award\", [\"Bib Gourmand\"])"
   ]
  },
  {
   "cell_type": "code",
   "execution_count": 29,
   "id": "b68ba9c2",
   "metadata": {},
   "outputs": [
    {
     "name": "stdout",
     "output_type": "stream",
     "text": [
      "<class 'pandas.core.frame.DataFrame'>\n",
      "Int64Index: 3215 entries, 0 to 3214\n",
      "Data columns (total 11 columns):\n",
      " #   Column     Non-Null Count  Dtype  \n",
      "---  ------     --------------  -----  \n",
      " 0   Name       3215 non-null   object \n",
      " 1   Address    3215 non-null   object \n",
      " 2   Location   3215 non-null   object \n",
      " 3   MinPrice   3215 non-null   int64  \n",
      " 4   MaxPrice   3215 non-null   int64  \n",
      " 5   Currency   3215 non-null   object \n",
      " 6   Cuisine    3215 non-null   object \n",
      " 7   Award      3215 non-null   object \n",
      " 8   MeanPrice  3215 non-null   float64\n",
      " 9   USDPrice   3215 non-null   float64\n",
      " 10  Country    3215 non-null   object \n",
      "dtypes: float64(2), int64(2), object(7)\n",
      "memory usage: 301.4+ KB\n"
     ]
    }
   ],
   "source": [
    "michelindata.info()"
   ]
  },
  {
   "cell_type": "markdown",
   "id": "61473f95",
   "metadata": {},
   "source": [
    "**Save the data into another CSV file**"
   ]
  },
  {
   "cell_type": "code",
   "execution_count": null,
   "id": "5755fbaa",
   "metadata": {},
   "outputs": [],
   "source": [
    "michelindata.to_csv(\"CLEANED.csv\")"
   ]
  },
  {
   "cell_type": "markdown",
   "id": "1ca39bf8",
   "metadata": {},
   "source": [
    "#### Conclusion"
   ]
  },
  {
   "cell_type": "markdown",
   "id": "a4022ba2",
   "metadata": {},
   "source": [
    "We are left with a cleaned dataset with 3215 rows and 11 columns and with no NULL values. The columns are Name, Address, Location, MinPrice, MaxPrice, Currency, Cuisine, Award, MeanPrice, USDPrice and Country\n",
    "\n",
    "We will mainly be using Country, Cuisine, USDPrice and Award in our data visualization and machine learning models."
   ]
  }
 ],
 "metadata": {
  "kernelspec": {
   "display_name": "Python 3",
   "language": "python",
   "name": "python3"
  },
  "language_info": {
   "codemirror_mode": {
    "name": "ipython",
    "version": 3
   },
   "file_extension": ".py",
   "mimetype": "text/x-python",
   "name": "python",
   "nbconvert_exporter": "python",
   "pygments_lexer": "ipython3",
   "version": "3.8.8"
  }
 },
 "nbformat": 4,
 "nbformat_minor": 5
}
